{
 "cells": [
  {
   "cell_type": "code",
   "execution_count": 1,
   "metadata": {},
   "outputs": [],
   "source": [
    "from azure.storage.blob import BlobServiceClient, BlobClient, ContainerClient"
   ]
  },
  {
   "cell_type": "code",
   "execution_count": 7,
   "metadata": {},
   "outputs": [
    {
     "ename": "",
     "evalue": "",
     "output_type": "error",
     "traceback": [
      "\u001b[1;31mThe Kernel crashed while executing code in the current cell or a previous cell. \n",
      "\u001b[1;31mPlease review the code in the cell(s) to identify a possible cause of the failure. \n",
      "\u001b[1;31mClick <a href='https://aka.ms/vscodeJupyterKernelCrash'>here</a> for more info. \n",
      "\u001b[1;31mView Jupyter <a href='command:jupyter.viewOutput'>log</a> for further details."
     ]
    }
   ],
   "source": [
    "from dotenv import load_dotenv  \n",
    "import os"
   ]
  },
  {
   "cell_type": "code",
   "execution_count": 4,
   "metadata": {},
   "outputs": [
    {
     "data": {
      "text/plain": [
       "True"
      ]
     },
     "execution_count": 4,
     "metadata": {},
     "output_type": "execute_result"
    }
   ],
   "source": [
    "load_dotenv()"
   ]
  },
  {
   "cell_type": "code",
   "execution_count": 6,
   "metadata": {},
   "outputs": [],
   "source": [
    "connection_string=os.getenv(\"CONNECTION_STRING\")\n",
    "blob_service_client = BlobServiceClient.from_connection_string(connection_string)"
   ]
  },
  {
   "cell_type": "code",
   "execution_count": 29,
   "metadata": {},
   "outputs": [],
   "source": [
    "container_client=blob_service_client.get_container_client(\"testindex-chunks\")"
   ]
  },
  {
   "cell_type": "code",
   "execution_count": 30,
   "metadata": {},
   "outputs": [
    {
     "name": "stdout",
     "output_type": "stream",
     "text": [
      "Container exists\n"
     ]
    }
   ],
   "source": [
    "if container_client.exists():\n",
    "    print(\"Container exists\")\n",
    "else:\n",
    "    print(\"Container does not exist\")"
   ]
  },
  {
   "cell_type": "code",
   "execution_count": 70,
   "metadata": {},
   "outputs": [
    {
     "data": {
      "text/plain": [
       "{'cracked-output', 'test'}"
      ]
     },
     "execution_count": 70,
     "metadata": {},
     "output_type": "execute_result"
    }
   ],
   "source": [
    "blobs = container_client.list_blobs()\n",
    "blob_names = set([blob.name.split('/')[0] for blob in blobs])\n",
    "blob_names"
   ]
  },
  {
   "cell_type": "code",
   "execution_count": 72,
   "metadata": {},
   "outputs": [
    {
     "data": {
      "text/plain": [
       "{'cracked-output/aHR0cHM6Ly9sbG04NjA5Njc5MDU0LmJsb2IuY29yZS53aW5kb3dzLm5ldC9maWxldXBsb2FkLXRlc3RpbmRleC9sZWJvMTExLnBkZg2.txt',\n",
       " 'test/jeff101.pdf',\n",
       " 'test/jeff102.pdf',\n",
       " 'test/jeff103.pdf',\n",
       " 'test/jeff104.pdf',\n",
       " 'test/jeff105.pdf',\n",
       " 'test/jeff106.pdf',\n",
       " 'test/jeff107.pdf',\n",
       " 'test/jeff108.pdf',\n",
       " 'test/jeff109.pdf',\n",
       " 'test/jeff1ps.pdf',\n",
       " 'test/jesc101.pdf',\n",
       " 'test/jesc102.pdf',\n",
       " 'test/jesc103.pdf',\n",
       " 'test/jesc104.pdf',\n",
       " 'test/jesc105.pdf',\n",
       " 'test/jesc106.pdf',\n",
       " 'test/jesc107.pdf',\n",
       " 'test/jesc108.pdf',\n",
       " 'test/jesc109.pdf',\n",
       " 'test/jesc110.pdf',\n",
       " 'test/jesc111.pdf',\n",
       " 'test/jesc112.pdf',\n",
       " 'test/jesc113.pdf',\n",
       " 'test/jesc1an.pdf',\n",
       " 'test/jesc1ps.pdf',\n",
       " 'test/jess101.pdf',\n",
       " 'test/jess102.pdf',\n",
       " 'test/jess103.pdf',\n",
       " 'test/jess104.pdf',\n",
       " 'test/jess105.pdf',\n",
       " 'test/jess106.pdf',\n",
       " 'test/jess107.pdf',\n",
       " 'test/jess1a1.pdf',\n",
       " 'test/jess1ps.pdf',\n",
       " 'test/rcd.pdf',\n",
       " 'test/researchpaper1.pdf'}"
      ]
     },
     "execution_count": 72,
     "metadata": {},
     "output_type": "execute_result"
    }
   ],
   "source": [
    "blobs = container_client.list_blobs()\n",
    "blob_names = set([blob.name for blob in blobs])\n",
    "blob_names"
   ]
  },
  {
   "cell_type": "code",
   "execution_count": 65,
   "metadata": {},
   "outputs": [
    {
     "name": "stdout",
     "output_type": "stream",
     "text": [
      "{'name': 'cracked-output/aHR0cHM6Ly9sbG04NjA5Njc5MDU0LmJsb2IuY29yZS53aW5kb3dzLm5ldC9maWxldXBsb2FkLXRlc3RpbmRleC9sZWJvMTExLnBkZg2.txt', 'container': 'testindex-chunks', 'snapshot': None, 'version_id': None, 'is_current_version': None, 'blob_type': <BlobType.BLOCKBLOB: 'BlockBlob'>, 'metadata': {}, 'encrypted_metadata': None, 'last_modified': datetime.datetime(2024, 8, 22, 15, 48, 11, tzinfo=datetime.timezone.utc), 'etag': '0x8DCC2C1D3ED4DA1', 'size': 37497, 'content_range': None, 'append_blob_committed_block_count': None, 'is_append_blob_sealed': None, 'page_blob_sequence_number': None, 'server_encrypted': True, 'copy': {'id': None, 'source': None, 'status': None, 'progress': None, 'completion_time': None, 'status_description': None, 'incremental_copy': None, 'destination_snapshot': None}, 'content_settings': {'content_type': 'application/octet-stream', 'content_encoding': None, 'content_language': None, 'content_md5': bytearray(b'\\xdc\\xf3\\x89\\xd7\\xd6\\x9a\\x8d\\x8b%t!K2+\\xcc#'), 'content_disposition': None, 'cache_control': None}, 'lease': {'status': 'unlocked', 'state': 'available', 'duration': None}, 'blob_tier': 'Hot', 'rehydrate_priority': None, 'blob_tier_change_time': None, 'blob_tier_inferred': True, 'deleted': None, 'deleted_time': None, 'remaining_retention_days': None, 'creation_time': datetime.datetime(2024, 8, 22, 15, 48, 11, tzinfo=datetime.timezone.utc), 'archive_status': None, 'encryption_key_sha256': None, 'encryption_scope': None, 'request_server_encrypted': None, 'object_replication_source_properties': [], 'object_replication_destination_policy': None, 'last_accessed_on': None, 'tag_count': 2, 'tags': None, 'immutability_policy': {'expiry_time': None, 'policy_mode': None}, 'has_legal_hold': None, 'has_versions_only': None}\n"
     ]
    }
   ],
   "source": [
    "blobs = container_client.list_blobs(name_starts_with=\"cracked\")\n",
    "for blob in blobs:\n",
    "    print(blob)\n"
   ]
  },
  {
   "cell_type": "code",
   "execution_count": 75,
   "metadata": {},
   "outputs": [],
   "source": [
    "os.makedirs(\"artifact\",exist_ok=True)\n",
    "download_path= \"artifact\"\n",
    "blobs = container_client.list_blobs(name_starts_with=\"cracked-output\")\n",
    "for blob in blobs:\n",
    "    blob_client = container_client.get_blob_client(blob.name)\n",
    "    blob_download_path = os.path.join(download_path, blob.name)\n",
    "    os.makedirs(os.path.dirname(blob_download_path), exist_ok=True)\n",
    "    with open(blob_download_path, \"wb\") as download_file:\n",
    "        download_file.write(blob_client.download_blob().readall())"
   ]
  },
  {
   "cell_type": "code",
   "execution_count": 36,
   "metadata": {},
   "outputs": [
    {
     "data": {
      "text/plain": [
       "'C:\\\\Users\\\\v-sukruthav\\\\Downloads\\\\project\\\\src'"
      ]
     },
     "execution_count": 36,
     "metadata": {},
     "output_type": "execute_result"
    }
   ],
   "source": [
    "os.path.dirname(r\"C:\\Users\\v-sukruthav\\Downloads\\project\\src\\cloud\")"
   ]
  },
  {
   "cell_type": "code",
   "execution_count": 44,
   "metadata": {},
   "outputs": [],
   "source": [
    "from src.logger import logger\n",
    "container_client = blob_service_client.get_container_client(\"testindex-chunks\")\n",
    "uploaded_count = 0  \n",
    "folder_path = r\"C:\\Users\\v-sukruthav\\Downloads\\All_textbooks\\jesc1dd\"\n",
    "blob_name=\"test\"\n",
    "logger.info(f\"Starting to upload all the files present in {folder_path}\")\n",
    "logger.info(f\"Total no of files present in folder:{folder_path} are {len(os.listdir(folder_path))}\")\n",
    "for root, _, files in os.walk(folder_path):\n",
    "    for file in files:\n",
    "        file_path = os.path.join(root, file)\n",
    "        blob_path = os.path.join(blob_name, os.path.relpath(file_path, folder_path))\n",
    "        logger.info(f\"Uploading {file_path} to {blob_path}\")\n",
    "        blob_client = container_client.get_blob_client(blob_path)\n",
    "        with open(file_path, \"rb\") as data:\n",
    "            blob_client.upload_blob(data)\n",
    "        logger.info(f\"Uploaded {file_path} to {blob_path}\")\n",
    "        uploaded_count += 1  # Increment counter\n",
    "logger.info(f\"Total number of files uploaded: {uploaded_count}\")  # "
   ]
  },
  {
   "cell_type": "code",
   "execution_count": 45,
   "metadata": {},
   "outputs": [
    {
     "data": {
      "text/plain": [
       "15"
      ]
     },
     "execution_count": 45,
     "metadata": {},
     "output_type": "execute_result"
    }
   ],
   "source": [
    "uploaded_count"
   ]
  },
  {
   "cell_type": "code",
   "execution_count": 1,
   "metadata": {},
   "outputs": [],
   "source": [
    "from src.entity.config_entity import DataIngestionConfig"
   ]
  },
  {
   "cell_type": "code",
   "execution_count": 2,
   "metadata": {},
   "outputs": [],
   "source": [
    "dic = DataIngestionConfig()"
   ]
  },
  {
   "cell_type": "code",
   "execution_count": 6,
   "metadata": {},
   "outputs": [
    {
     "data": {
      "text/plain": [
       "{'data_ingestion_dir': 'artifacts\\\\09_12_2024_15_17_01\\\\DataIngestion',\n",
       " 'raw_data_dir': 'artifacts\\\\09_12_2024_15_17_01\\\\DataIngestion\\\\rawdata',\n",
       " 'processed_data_dir': 'artifacts\\\\09_12_2024_15_17_01\\\\DataIngestion\\\\processed_data',\n",
       " 'metadata_dir': 'artifacts\\\\09_12_2024_15_17_01\\\\DataIngestion\\\\metadata',\n",
       " 'metadata_filename': 'src\\\\metadata\\\\di_metadata.json',\n",
       " 'processed_data_filename': 'processed_data.pdf',\n",
       " 'azure_container_name': 'testindex-chunks',\n",
       " 'azure_blob_name': 'cracked-output'}"
      ]
     },
     "execution_count": 6,
     "metadata": {},
     "output_type": "execute_result"
    }
   ],
   "source": [
    "dic.__dict__"
   ]
  },
  {
   "cell_type": "code",
   "execution_count": 5,
   "metadata": {},
   "outputs": [
    {
     "data": {
      "text/plain": [
       "'src\\\\metadata'"
      ]
     },
     "execution_count": 5,
     "metadata": {},
     "output_type": "execute_result"
    }
   ],
   "source": [
    "import os\n",
    "os.path.dirname(dic.metadata_filename)"
   ]
  },
  {
   "cell_type": "code",
   "execution_count": 7,
   "metadata": {},
   "outputs": [
    {
     "data": {
      "text/plain": [
       "['aHR0cHM6Ly9sbG04NjA5Njc5MDU0LmJsb2IuY29yZS53aW5kb3dzLm5ldC9maWxldXBsb2FkLXRlc3RpbmRleC9sZWJvMTExLnBkZg2.txt',\n",
       " 'jemh1a1.pdf',\n",
       " 'jemh1a2.pdf']"
      ]
     },
     "execution_count": 7,
     "metadata": {},
     "output_type": "execute_result"
    }
   ],
   "source": [
    "import os\n",
    "os.listdir(r\"artifacts\\09_11_2024_23_03_42\\DataIngestion\\rawdata\\cracked-output\")"
   ]
  },
  {
   "cell_type": "code",
   "execution_count": null,
   "metadata": {},
   "outputs": [],
   "source": [
    "import pandas as pd\n",
    "\n",
    "# Read the Excel file\n",
    "df = pd.read_excel('path_to_your_excel_file.xlsx')\n",
    "\n",
    "# Drop rows with any null values\n",
    "df.dropna(inplace=True)\n",
    "\n",
    "# Combine relevant columns into a single text column if needed\n",
    "df['combined_text'] = \"Caseno-\"+ df['Case No'] + ' ' + df['SAP'] + ' ' + df['Issue'] + ' ' + df['Resolution'] + ' ' + df['Summary']\n",
    "\n",
    "# Display the first few rows of the dataframe\n",
    "print(df['combined_text'].head())"
   ]
  }
 ],
 "metadata": {
  "kernelspec": {
   "display_name": "project",
   "language": "python",
   "name": "python3"
  },
  "language_info": {
   "codemirror_mode": {
    "name": "ipython",
    "version": 3
   },
   "file_extension": ".py",
   "mimetype": "text/x-python",
   "name": "python",
   "nbconvert_exporter": "python",
   "pygments_lexer": "ipython3",
   "version": "3.10.14"
  }
 },
 "nbformat": 4,
 "nbformat_minor": 2
}
